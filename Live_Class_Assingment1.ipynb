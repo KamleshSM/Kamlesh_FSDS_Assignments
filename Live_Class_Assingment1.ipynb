{
  "nbformat": 4,
  "nbformat_minor": 0,
  "metadata": {
    "colab": {
      "provenance": [],
      "collapsed_sections": [],
      "authorship_tag": "ABX9TyND6o7iSvMlHVsmd7UxXURU",
      "include_colab_link": true
    },
    "kernelspec": {
      "name": "python3",
      "display_name": "Python 3"
    },
    "language_info": {
      "name": "python"
    }
  },
  "cells": [
    {
      "cell_type": "markdown",
      "metadata": {
        "id": "view-in-github",
        "colab_type": "text"
      },
      "source": [
        "<a href=\"https://colab.research.google.com/github/KamleshSM/Kamlesh_FSDS_Assignments/blob/main/Live_Class_Assingment1.ipynb\" target=\"_parent\"><img src=\"https://colab.research.google.com/assets/colab-badge.svg\" alt=\"Open In Colab\"/></a>"
      ]
    },
    {
      "cell_type": "markdown",
      "source": [
        "# ASSIGNMENTS - NOT compulsory but usefull!!\n",
        "# I am not at loss if you don't submit\n",
        "## send the mail to \n",
        "## send it before 0000 hrs IST | 12 AM tonight\n",
        "## Special cases respond atleast before 1200 hrs IST tomorrow i.e Monday\n",
        "\n",
        "TO: query@ineuron.ai\n",
        "CC: sunny@ineuron.ai, riishav@ineuron.ai, boktiar@ineuron.ai\n",
        " \n",
        "Subject: [Bootcamp 2.0 | Assignment No. 1]: \n",
        "\n",
        "1. Find out all the types of error that we have encountered in our lecture and why? Also include the examples.\n",
        "2. Take input A and B and print their sum, mul, div, square of the nos.\n",
        "3. How many reserve keywords are there in python and why we should not use them as a variable name.\n",
        "4. Create email ids with the user inputs. in the following format - \n",
        "lastname.firstname@gmail.com\n",
        "5. Try to print the following lines - \n",
        "  - Hi I'm Sunny\n",
        "  - My address is 22\\3 \n",
        "  - I earn 20$ daily.\n",
        "6. Take user input (name, address, date of birth etc) to fill a form for your college and print their email IDs\n",
        "7. Convert the following - \n",
        "  - \"22.4\" into integer\n",
        "  - \"22\" into complex no."
      ],
      "metadata": {
        "id": "tgaZ_VECoP_0"
      }
    },
    {
      "cell_type": "code",
      "execution_count": null,
      "metadata": {
        "id": "niLALIm7n_VJ"
      },
      "outputs": [],
      "source": []
    },
    {
      "cell_type": "markdown",
      "source": [
        "# 1. Find out all the types of error that we have encountered in our lecture and why? Also include the examples.\n",
        "\n",
        "-\n",
        "\n",
        "1. NameError :- It is due to Undefine Veriable. \n",
        "\n",
        "eg.\n",
        " Kamlesh = 10\n",
        " \n",
        " print(kamlesh)\n",
        "\n",
        " NameError: name 'kamlesh' is not defined\n",
        "\n",
        " 2. TypeError:- It is due to crating print as a veriable. Because print is reserved word in python and after using it as a veriable it can not be used as a command.\n",
        "\n",
        " 3. TypeError: unsupported operand type(s) for -: 'int' and 'str'\n",
        "\n",
        " it is because we can't substract int from str.\n",
        "\n",
        " 4. SyntaxError: invalid syntax\n",
        "\n",
        " int A\n",
        " here A should be in ()\n",
        "\n",
        " 5. ValueError: invalid literal for int() with base 10: '10.2'\n",
        "\n",
        " here we have tried to convert a float(\"10.2\") string into int\n",
        " float(10.2) can be converted in to int.\n",
        "\n",
        " 6. ValueError: invalid literal for int() with base 10: ''\n",
        "\n",
        " here variable is empty string and we try to convert it into int.\n",
        "\n",
        " string with numarical value(int) can be converted into int. "
      ],
      "metadata": {
        "id": "P0Kr_sRLodFi"
      }
    },
    {
      "cell_type": "code",
      "source": [],
      "metadata": {
        "id": "QDKrgbNJooD0"
      },
      "execution_count": null,
      "outputs": []
    },
    {
      "cell_type": "markdown",
      "source": [
        "# 2. Take input A and B and print their sum, mul, div, square of the nos.\n"
      ],
      "metadata": {
        "id": "F0b66Lazuq35"
      }
    },
    {
      "cell_type": "code",
      "source": [
        "A = int(input(\"1st no : \"))\n",
        "B = int(input(\"2nd no : \"))\n",
        "sum = A+B\n",
        "mul = A*B\n",
        "div = A/B\n",
        "print(f'''sum of A & B = {sum}\n",
        "      mul of A & B ={mul}\n",
        "      div of A & B ={div}\n",
        "      square of A ={A**2}\n",
        "      square of B = {B**2}''')"
      ],
      "metadata": {
        "colab": {
          "base_uri": "https://localhost:8080/"
        },
        "id": "Ap6Wd41tuvhL",
        "outputId": "f36c3f3d-56c9-485e-ced6-9563f12635bf"
      },
      "execution_count": null,
      "outputs": [
        {
          "output_type": "stream",
          "name": "stdout",
          "text": [
            "1st no : 10\n",
            "2nd no : 5\n",
            "sum of A & B = 15\n",
            "      mul of A & B =50\n",
            "      div of A & B =2.0\n",
            "      square of A =100\n",
            "      square of B = 25\n"
          ]
        }
      ]
    },
    {
      "cell_type": "code",
      "source": [],
      "metadata": {
        "id": "HfEbKTEwwhI-"
      },
      "execution_count": null,
      "outputs": []
    },
    {
      "cell_type": "markdown",
      "source": [
        "# 3. How many reserve keywords are there in python and why we should not use them as a variable name.\n",
        "\n",
        "-\n",
        "There are 33 reserved keywords in Python.They are\n",
        "\n",
        "\n",
        "and\n",
        "except\n",
        "lambda\n",
        "with\n",
        "as\n",
        "finally\n",
        "nonlocal\n",
        "while\n",
        "assert\n",
        "false\n",
        "None\n",
        "yield\n",
        "break\n",
        "for\n",
        "not\n",
        "\n",
        "class\n",
        "from\n",
        "or\n",
        "\n",
        "continue\n",
        "global\n",
        "pass\n",
        "\n",
        "def\n",
        "if\n",
        "raise\n",
        "\n",
        "del\n",
        "import\n",
        "return\n",
        "\n",
        "elif\n",
        "in\n",
        "True\n",
        "\n",
        "else\n",
        "is\n",
        "try\n",
        "\n",
        "\n",
        "\n",
        "### If we used reserve keyword it looses its functionality."
      ],
      "metadata": {
        "id": "GjJLMzEjwsfb"
      }
    },
    {
      "cell_type": "code",
      "source": [],
      "metadata": {
        "id": "p_IVA68zxwtj"
      },
      "execution_count": null,
      "outputs": []
    },
    {
      "cell_type": "markdown",
      "source": [
        "# 4. Create email ids with the user inputs. in the following format - lastname.firstname@gmail.com.\n",
        "\n"
      ],
      "metadata": {
        "id": "9fdH9KiqzF4g"
      }
    },
    {
      "cell_type": "code",
      "source": [
        "last_name = input(\"lastname = \")\n",
        "first_name = input(\"firstname = \")\n",
        "print(f\"Your email ID is {last_name}.{first_name}@gmail.com\")"
      ],
      "metadata": {
        "colab": {
          "base_uri": "https://localhost:8080/"
        },
        "id": "gSqb258u1a--",
        "outputId": "fddddec6-13db-4de9-f51f-78ed2fdf3058"
      },
      "execution_count": null,
      "outputs": [
        {
          "output_type": "stream",
          "name": "stdout",
          "text": [
            "lastname = mahajan\n",
            "firstname = kamlesh\n",
            "Your email ID is mahajan.kamlesh@gmail.com\n"
          ]
        }
      ]
    },
    {
      "cell_type": "code",
      "source": [],
      "metadata": {
        "id": "GeQG7Aqx2KQG"
      },
      "execution_count": null,
      "outputs": []
    },
    {
      "cell_type": "markdown",
      "source": [
        "# 5. Try to print the following lines -\n",
        "Hi I'm Sunny\n",
        "My address is 22\\3\n",
        "I earn 20$ daily."
      ],
      "metadata": {
        "id": "ytQgp7wy2UyL"
      }
    },
    {
      "cell_type": "code",
      "source": [
        "print('''Hi I'm Sunny \n",
        "My address is 22\\3 \n",
        "I earn 20$ daily.''')"
      ],
      "metadata": {
        "colab": {
          "base_uri": "https://localhost:8080/"
        },
        "id": "fjLKhdKG2ZwV",
        "outputId": "a4f9f4d6-fec6-4a01-ce1c-a0511825b7c5"
      },
      "execution_count": null,
      "outputs": [
        {
          "output_type": "stream",
          "name": "stdout",
          "text": [
            "Hi I'm Sunny \n",
            "My address is 22\u0003 \n",
            "I earn 20$ daily.\n"
          ]
        }
      ]
    },
    {
      "cell_type": "code",
      "source": [],
      "metadata": {
        "id": "nNBS4v7D2kqd"
      },
      "execution_count": null,
      "outputs": []
    },
    {
      "cell_type": "markdown",
      "source": [
        "# 6. Take user input (name, address, date of birth etc) to fill a form for your college and print their email IDs"
      ],
      "metadata": {
        "id": "EQ3Om6CR27lG"
      }
    },
    {
      "cell_type": "code",
      "source": [
        "name = input(\"enter your name : \")\n",
        "adress = input(\"Enter your adress : \")\n",
        "date_of_birth = input(\"Enter your DOB(yyyy) : \")\n",
        "print(f\"your email id is {name}.{date_of_birth}@gmail.com\")\n"
      ],
      "metadata": {
        "colab": {
          "base_uri": "https://localhost:8080/"
        },
        "id": "5yNhEoJI2-qs",
        "outputId": "b4b804d1-cbe3-4747-8d62-fbdc3a2afb3a"
      },
      "execution_count": null,
      "outputs": [
        {
          "output_type": "stream",
          "name": "stdout",
          "text": [
            "enter your name : kamlesh\n",
            "Enter your adress : pune\n",
            "Enter your DOB(yyyy) : 1988\n",
            "your email id is kamlesh.1988@gmail.com\n"
          ]
        }
      ]
    },
    {
      "cell_type": "code",
      "source": [],
      "metadata": {
        "id": "1kL8-Nhb7YO_"
      },
      "execution_count": null,
      "outputs": []
    },
    {
      "cell_type": "markdown",
      "source": [
        "# 7. Convert the following -\n",
        "\"22.4\" into integer\n",
        "\"22\" into complex no."
      ],
      "metadata": {
        "id": "aHTB8J1n7rS8"
      }
    },
    {
      "cell_type": "code",
      "source": [
        "A = \"22.4\"\n",
        "print(int(float(A)))"
      ],
      "metadata": {
        "colab": {
          "base_uri": "https://localhost:8080/"
        },
        "id": "4hI6Oc3f80ak",
        "outputId": "728ea24d-92f2-477f-ba55-6c466d2935e0"
      },
      "execution_count": null,
      "outputs": [
        {
          "output_type": "stream",
          "name": "stdout",
          "text": [
            "22\n"
          ]
        }
      ]
    },
    {
      "cell_type": "code",
      "source": [
        "B = \"22\"\n",
        "print(complex(int(B)))"
      ],
      "metadata": {
        "colab": {
          "base_uri": "https://localhost:8080/"
        },
        "id": "VER6yOUT9C9k",
        "outputId": "aeebfa07-7304-4dfd-a042-03d1f9cdb86d"
      },
      "execution_count": null,
      "outputs": [
        {
          "output_type": "stream",
          "name": "stdout",
          "text": [
            "(22+0j)\n"
          ]
        }
      ]
    },
    {
      "cell_type": "code",
      "source": [],
      "metadata": {
        "id": "UeVXhDM59QZi"
      },
      "execution_count": null,
      "outputs": []
    }
  ]
}