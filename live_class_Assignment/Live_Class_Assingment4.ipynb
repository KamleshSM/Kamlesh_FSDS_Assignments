{
  "nbformat": 4,
  "nbformat_minor": 0,
  "metadata": {
    "colab": {
      "provenance": [],
      "collapsed_sections": []
    },
    "kernelspec": {
      "name": "python3",
      "display_name": "Python 3"
    },
    "language_info": {
      "name": "python"
    }
  },
  "cells": [
    {
      "cell_type": "markdown",
      "source": [
        "# ASSIGNMENTS \n",
        "## Send it before 0000 hrs IST or 12 AM Wednesday\n",
        "\n",
        "## NOTE: Evaluation will be done before next class.\n",
        "\n",
        "## HOW TO SUBMIT: -\n",
        "Download this notebook, Solve it and upload in the google form given in the mail."
      ],
      "metadata": {
        "id": "0D6_V0TY-eGW"
      }
    },
    {
      "cell_type": "code",
      "execution_count": null,
      "metadata": {
        "id": "rLxVabon-IYF"
      },
      "outputs": [],
      "source": []
    },
    {
      "cell_type": "markdown",
      "source": [
        "## control flow and conditional statements"
      ],
      "metadata": {
        "id": "skE89LEw-oTI"
      }
    },
    {
      "cell_type": "markdown",
      "source": [
        "Q1. Find the largest number from the given list, use for loop.\n",
        "\n",
        "```\n",
        "numbers = [12, 75, 150, 180, 145, 525, 50]\n",
        "```"
      ],
      "metadata": {
        "id": "yXxRAEPd-uXv"
      }
    },
    {
      "cell_type": "code",
      "source": [
        "numbers = [12, 75, 150, 180, 145, 525, 50]\n",
        "largest = numbers[0]\n",
        "for number in numbers:\n",
        "  if number > largest:\n",
        "    largest = number\n",
        "  else:\n",
        "    largest = largest\n",
        "print(largest)"
      ],
      "metadata": {
        "colab": {
          "base_uri": "https://localhost:8080/"
        },
        "id": "yRQguJTM-pj5",
        "outputId": "a47bf828-ac3b-42d9-c81c-f2859a7915cd"
      },
      "execution_count": 2,
      "outputs": [
        {
          "output_type": "stream",
          "name": "stdout",
          "text": [
            "525\n"
          ]
        }
      ]
    },
    {
      "cell_type": "markdown",
      "source": [
        "Q2. Print all the even number between (1, 12)."
      ],
      "metadata": {
        "id": "sFhnlzme_qpo"
      }
    },
    {
      "cell_type": "code",
      "source": [
        "for i in range(1,12):\n",
        "  if i % 2 == 0:\n",
        "    print(i)"
      ],
      "metadata": {
        "colab": {
          "base_uri": "https://localhost:8080/"
        },
        "id": "jXKeH8lQ_dgw",
        "outputId": "3afd5512-0f92-43c7-d23d-e3cd5645e4cd"
      },
      "execution_count": 3,
      "outputs": [
        {
          "output_type": "stream",
          "name": "stdout",
          "text": [
            "2\n",
            "4\n",
            "6\n",
            "8\n",
            "10\n"
          ]
        }
      ]
    },
    {
      "cell_type": "markdown",
      "source": [
        "Q3. Calculate the sum of all numbers from 1 to a given number\n",
        "    \n",
        "    Expected Output:\n",
        "\n",
        "    Enter number 10\n",
        "    \n",
        "    Sum is:  55"
      ],
      "metadata": {
        "id": "8po1qPf5AMOQ"
      }
    },
    {
      "cell_type": "code",
      "source": [
        "number = int(input(\"Enter number to find sum from 1 to number \"))\n",
        "sum = 0\n",
        "for i in range(1,number+1):\n",
        "  sum += i\n",
        "print(sum )"
      ],
      "metadata": {
        "colab": {
          "base_uri": "https://localhost:8080/"
        },
        "id": "zk75FwUO__xu",
        "outputId": "fcf03a25-22d2-4a1a-e190-f22be350a10e"
      },
      "execution_count": 8,
      "outputs": [
        {
          "output_type": "stream",
          "name": "stdout",
          "text": [
            "Enter number to find sum from 1 to number 10\n",
            "55\n"
          ]
        }
      ]
    },
    {
      "cell_type": "markdown",
      "source": [
        "Q4. Write a program to display only those numbers from a list that satisfy the following conditions\n",
        "\n",
        "- The number must be divisible by five\n",
        "\n",
        "- If the number is greater than 150, then skip it and move to the next number\n",
        "\n",
        "- If the number is greater than 500, then stop the loop"
      ],
      "metadata": {
        "id": "pFTJPDfVBQ5C"
      }
    },
    {
      "cell_type": "code",
      "source": [
        "# Given:\n",
        "\n",
        "numbers = [12, 75, 150, 180, 145, 525, 50]\n",
        "blanke_list = []\n",
        "for number in numbers:\n",
        "  if number % 2 == 0:\n",
        "    if number > 500:\n",
        "      break\n",
        "    elif number > 150:\n",
        "      continue\n",
        "    else:\n",
        "      blanke_list.append(number)\n",
        "  else:\n",
        "    pass\n",
        "print(blanke_list)"
      ],
      "metadata": {
        "colab": {
          "base_uri": "https://localhost:8080/"
        },
        "id": "R_q-nAjcAfKt",
        "outputId": "faad4c61-bfdd-4972-b98d-839560e1ff10"
      },
      "execution_count": 13,
      "outputs": [
        {
          "output_type": "stream",
          "name": "stdout",
          "text": [
            "[12, 150, 50]\n"
          ]
        }
      ]
    },
    {
      "cell_type": "markdown",
      "source": [
        "Q5. Print the given list in reverse order.\n",
        "\n",
        "```\n",
        "list1 = [10, 20, 30, 40, 50]\n",
        "```"
      ],
      "metadata": {
        "id": "gGQJVhqCDbzA"
      }
    },
    {
      "cell_type": "code",
      "source": [
        "list1 = [10, 20, 30, 40, 50]\n",
        "list1.reverse()\n",
        "print(list1)"
      ],
      "metadata": {
        "colab": {
          "base_uri": "https://localhost:8080/"
        },
        "id": "fEI2ReF4Cy8F",
        "outputId": "0c0c3eff-a808-4cdf-ed5e-aedc1ac579bd"
      },
      "execution_count": 17,
      "outputs": [
        {
          "output_type": "stream",
          "name": "stdout",
          "text": [
            "[50, 40, 30, 20, 10]\n"
          ]
        }
      ]
    },
    {
      "cell_type": "code",
      "source": [],
      "metadata": {
        "id": "f48tciNEDoBV"
      },
      "execution_count": null,
      "outputs": []
    }
  ]
}