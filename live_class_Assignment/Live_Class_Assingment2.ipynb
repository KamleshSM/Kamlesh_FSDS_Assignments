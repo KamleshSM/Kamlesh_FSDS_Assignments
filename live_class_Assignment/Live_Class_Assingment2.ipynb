{
  "nbformat": 4,
  "nbformat_minor": 0,
  "metadata": {
    "colab": {
      "provenance": [],
      "collapsed_sections": []
    },
    "kernelspec": {
      "name": "python3",
      "display_name": "Python 3"
    },
    "language_info": {
      "name": "python"
    }
  },
  "cells": [
    {
      "cell_type": "markdown",
      "source": [
        "# ASSIGNMENTS - Compulsory\n",
        "## Send it before 0000 hrs IST or 12 AM Wednesday\n",
        "\n",
        "## NOTE: Evaluation will be done before next class.\n",
        "\n",
        "## HOW TO SUBMIT: -\n",
        "Download this notebook, Solve it and upload in the google form given in the mail."
      ],
      "metadata": {
        "id": "HV4vWDQ04_dI"
      }
    },
    {
      "cell_type": "markdown",
      "source": [
        "### 1. What is indentation error? Why indentation is important? Give one simple example?\n",
        "\n",
        "- The indentation error can occur when the spaces or tabs are not placed properly.\n",
        "\n",
        "- Indentation is important because it improves the readability of the code.\n",
        "\n",
        "- Example:-\n",
        "\n",
        "```python\n",
        "if True:\n",
        "print(\"Hi\")\n",
        "```\n",
        "\n",
        "\n"
      ],
      "metadata": {
        "id": "bPDPrep45K5f"
      }
    },
    {
      "cell_type": "markdown",
      "source": [
        "# 2.  Correct the following code and write the comment where you made the correction?\n",
        "\n",
        "  ```python\n",
        "  class_started = bool(input(\"Hey friend, is class started?: [0-False/1-True]\"))\n",
        "\n",
        "  if class_started:\n",
        "      print(\"Since class started...\")\n",
        "      print(\"Lets concentrate\")\n",
        "  else:\n",
        "      print(\"Since class is not started...\")\n",
        "      print(\"let's revise\")    \n",
        "  ```\n",
        "\n",
        "  **HINT:** Refer your data type conversion class"
      ],
      "metadata": {
        "id": "TRMw9YNNmnCX"
      }
    },
    {
      "cell_type": "code",
      "source": [
        "  class_started = bool(int(input(\"Hey friend, is class started?: [0-False/1-True]\")))\n",
        "\n",
        "  if class_started:\n",
        "      print(\"Since class started...\")\n",
        "      print(\"Lets concentrate\")\n",
        "  else:\n",
        "      print(\"Since class is not started...\")\n",
        "      print(\"let's revise\")    "
      ],
      "metadata": {
        "id": "F3y_ZRIw45LF",
        "colab": {
          "base_uri": "https://localhost:8080/"
        },
        "outputId": "9df904e8-09e0-4ec8-fe7e-6ddc3bbdf57c"
      },
      "execution_count": 7,
      "outputs": [
        {
          "output_type": "stream",
          "name": "stdout",
          "text": [
            "Hey friend, is class started?: [0-False/1-True]0\n",
            "Since class is not started...\n",
            "let's revise\n"
          ]
        }
      ]
    },
    {
      "cell_type": "markdown",
      "source": [
        "- input command convert any input into str.\n",
        "- only space(empty str) is converted into False if we try to convert it into bool. "
      ],
      "metadata": {
        "id": "aDBVUUpKnOIJ"
      }
    },
    {
      "cell_type": "markdown",
      "source": [
        "# 3. Use if else condition to verify that dataype of `input()` method in python is always string."
      ],
      "metadata": {
        "id": "ZmL6uvOLolMX"
      }
    },
    {
      "cell_type": "code",
      "source": [
        "a = input(\"Enter any thing to check\")\n",
        "if type(a) == str:\n",
        "  print(\"it is string\")\n",
        "else:\n",
        "  print(\"it is not string\")"
      ],
      "metadata": {
        "colab": {
          "base_uri": "https://localhost:8080/"
        },
        "id": "yi-lwaCMmv01",
        "outputId": "1fcde275-9b83-44e3-f62e-f139b7199c9d"
      },
      "execution_count": 8,
      "outputs": [
        {
          "output_type": "stream",
          "name": "stdout",
          "text": [
            "Enter any thing to check25\n",
            "it is string\n"
          ]
        }
      ]
    },
    {
      "cell_type": "markdown",
      "source": [
        "# 4. Take 3 variables and assign integer values to them. Find the largest variable, by only using the if and else conditions."
      ],
      "metadata": {
        "id": "arwIdlj6pqK-"
      }
    },
    {
      "cell_type": "markdown",
      "source": [
        "### Using if elif else condition"
      ],
      "metadata": {
        "id": "lkpuCBb_0nA1"
      }
    },
    {
      "cell_type": "code",
      "source": [
        "a = int(input(\"Enter 1st Variable: \"))\n",
        "b = int(input(\"Enter 2st Variable: \"))\n",
        "c = int(input(\"Enter 3st Variable: \"))\n",
        "\n",
        "if (a>b) and (a>c):\n",
        "  print(\"1st is largest\")\n",
        "elif (c>a) and (c>b):\n",
        "  print(\"3rd is largest\")\n",
        "\n",
        "elif (b>a) and (b>c):\n",
        "  print(\"2nd is largest\")\n",
        "\n",
        "else:\n",
        "  print(\"No-one is largest\")\n"
      ],
      "metadata": {
        "colab": {
          "base_uri": "https://localhost:8080/"
        },
        "id": "sz-eYVtupb13",
        "outputId": "8441abe3-ade5-415f-a195-5a2933a81fbe"
      },
      "execution_count": 9,
      "outputs": [
        {
          "output_type": "stream",
          "name": "stdout",
          "text": [
            "Enter 1st Variable: 5\n",
            "Enter 2st Variable: 10\n",
            "Enter 3st Variable: 5\n",
            "2nd is largest\n"
          ]
        }
      ]
    },
    {
      "cell_type": "markdown",
      "source": [
        "### using only if else condition"
      ],
      "metadata": {
        "id": "SVb1L0950vWM"
      }
    },
    {
      "cell_type": "code",
      "source": [
        "a = int(input(\"Enter 1st Variable: \"))\n",
        "b = int(input(\"Enter 2st Variable: \"))\n",
        "c = int(input(\"Enter 3st Variable: \"))\n",
        "\n",
        "if (a > b) and ( a > c):\n",
        "  print(\"1st is largest\")\n",
        "else:\n",
        "  if ( b > a) and (b > c):\n",
        "    print(\"2nd is largest\")\n",
        "  else:\n",
        "    if (c > a) and (c > b):\n",
        "      print(\"3rd is largest\")\n",
        "    else:\n",
        "      print(\"No-one is largest\")\n"
      ],
      "metadata": {
        "colab": {
          "base_uri": "https://localhost:8080/"
        },
        "id": "ragaVs4uqx__",
        "outputId": "1fb1ee55-fa73-4e47-88c9-f4a4bbffceee"
      },
      "execution_count": 10,
      "outputs": [
        {
          "output_type": "stream",
          "name": "stdout",
          "text": [
            "Enter 1st Variable: 5\n",
            "Enter 2st Variable: 10\n",
            "Enter 3st Variable: 5\n",
            "2nd is largest\n"
          ]
        }
      ]
    },
    {
      "cell_type": "markdown",
      "source": [
        "# 5. What would be the solution?\n",
        "    1. True\n",
        "    2. False\n",
        "\n",
        "    ```python\n",
        "    a = 6\n",
        "    b = 10\n",
        "    print( not ( not a == 10 or not b == 10) )\n",
        "    ```\n",
        "\n",
        "# False"
      ],
      "metadata": {
        "id": "vBsEwkie06rM"
      }
    },
    {
      "cell_type": "markdown",
      "source": [
        "# 6. Find the answer as well as find out the reason behind the result? -\n",
        "    - case 1:\n",
        "        ```python\n",
        "        A = 5.0\n",
        "        B = 10/2\n",
        "        print(A is B)\n",
        "        ```\n",
        "    - case 2:\n",
        "        ```python\n",
        "        A = 5.0\n",
        "        B = int(10/2)\n",
        "        print(A is B)\n",
        "        ```\n",
        "    - case 3:\n",
        "        ```python\n",
        "        A = 5.0\n",
        "        B = float(10/2)\n",
        "        print(A is B)\n",
        "        ```"
      ],
      "metadata": {
        "id": "wCiencMR1tlD"
      }
    },
    {
      "cell_type": "markdown",
      "source": [
        "- False because ip of 5.0 is not equal to 10/2\n",
        "- ip for each float value is different"
      ],
      "metadata": {
        "id": "K1tD0sza2AYU"
      }
    },
    {
      "cell_type": "code",
      "source": [
        "A = 5.0\n",
        "B = 10/2\n",
        "print(A is B)"
      ],
      "metadata": {
        "colab": {
          "base_uri": "https://localhost:8080/"
        },
        "id": "yD4lPKQF1SXn",
        "outputId": "b0ac9290-9726-44e0-caff-ef2b18a72ec6"
      },
      "execution_count": 11,
      "outputs": [
        {
          "output_type": "stream",
          "name": "stdout",
          "text": [
            "False\n"
          ]
        }
      ]
    },
    {
      "cell_type": "markdown",
      "source": [
        "- False because ip's of float and int are different"
      ],
      "metadata": {
        "id": "kRpyzXGS2YOT"
      }
    },
    {
      "cell_type": "code",
      "source": [
        "A = 5.0\n",
        "B = int(10/2)\n",
        "print(A is B)"
      ],
      "metadata": {
        "colab": {
          "base_uri": "https://localhost:8080/"
        },
        "id": "RThaTUqO1yei",
        "outputId": "cf2f7f3e-c21d-4f9e-f6ea-57e604b7f87e"
      },
      "execution_count": 12,
      "outputs": [
        {
          "output_type": "stream",
          "name": "stdout",
          "text": [
            "False\n"
          ]
        }
      ]
    },
    {
      "cell_type": "markdown",
      "source": [
        "- ip for each float value is different"
      ],
      "metadata": {
        "id": "Qoikrxgk22WF"
      }
    },
    {
      "cell_type": "code",
      "source": [
        "A = 5.0\n",
        "B = float(10/2)\n",
        "print(A is B)"
      ],
      "metadata": {
        "colab": {
          "base_uri": "https://localhost:8080/"
        },
        "id": "CZYZQx8m2WHW",
        "outputId": "06c6fdfa-587f-4e05-d66f-2939904f8d04"
      },
      "execution_count": 13,
      "outputs": [
        {
          "output_type": "stream",
          "name": "stdout",
          "text": [
            "False\n"
          ]
        }
      ]
    },
    {
      "cell_type": "code",
      "source": [],
      "metadata": {
        "id": "wx4gG_lf2yi_"
      },
      "execution_count": 13,
      "outputs": []
    },
    {
      "cell_type": "markdown",
      "source": [
        "# 7. Write a program that asks the user to enter a number. You should print out a message to the user, either “That number is divisible by either 3 or 5”, or “That number is not divisible by either 3 or 5”. Be sure to consider the data type of the input you are taking in from the user. Use a single if/else block to solve this problem."
      ],
      "metadata": {
        "id": "G5O6Hs-NzIB7"
      }
    },
    {
      "cell_type": "code",
      "source": [
        "a = int(input(\"Enter a Number: \"))\n",
        "if (a%3 == 0) or (a%5 == 0):\n",
        "  print(\"That number is divisible by either 3 or 5\")\n",
        "else:\n",
        "  print(\"That number is not divisible by either 3 or 5\")"
      ],
      "metadata": {
        "colab": {
          "base_uri": "https://localhost:8080/"
        },
        "id": "l5CtSCD0zwvX",
        "outputId": "590aefbd-d31c-4dc5-ab9c-3851a6da2076"
      },
      "execution_count": 4,
      "outputs": [
        {
          "output_type": "stream",
          "name": "stdout",
          "text": [
            "Enter a Number: 18\n",
            "That number is divisible by either 3 or 5\n"
          ]
        }
      ]
    },
    {
      "cell_type": "code",
      "source": [],
      "metadata": {
        "id": "L5PZSEly03h-"
      },
      "execution_count": 13,
      "outputs": []
    },
    {
      "cell_type": "markdown",
      "source": [
        "# 8. Take user input for length and width. Then calculate the area of rectangle. Also print as per length and width whether its a square of rectangle."
      ],
      "metadata": {
        "id": "McsjIIFj06c_"
      }
    },
    {
      "cell_type": "code",
      "source": [
        "length = int(input(\"length = \"))\n",
        "width = int(input(\"width = \"))\n",
        "area = length * width\n",
        "print(f\"length = {length}, width = {width}, area of ractangle is {area}\")\n",
        "if length == width:\n",
        "  print(\"It's Square\")\n",
        "else:\n",
        "  print(\"It's Rectangle\")"
      ],
      "metadata": {
        "colab": {
          "base_uri": "https://localhost:8080/"
        },
        "id": "x0gOlHUw1ZBl",
        "outputId": "0a644be4-62c5-41bf-b81f-9575b61a2240"
      },
      "execution_count": 5,
      "outputs": [
        {
          "output_type": "stream",
          "name": "stdout",
          "text": [
            "length = 25\n",
            "width = 25\n",
            "length = 25, width = 25, area of ractangle is 625\n",
            "It's Square\n"
          ]
        }
      ]
    },
    {
      "cell_type": "code",
      "source": [],
      "metadata": {
        "id": "z_6L-VAB3GDx"
      },
      "execution_count": 13,
      "outputs": []
    },
    {
      "cell_type": "markdown",
      "source": [
        "# 9. Take two variable radius_1 and radius_2 and calculate the area of circle_1 and circle_2. Also print which circle has large area. If area is equal then print area is equal."
      ],
      "metadata": {
        "id": "ijMatjiG3Q0V"
      }
    },
    {
      "cell_type": "code",
      "source": [
        "radius_1 = int(input(\"Enter radius of 1st circle : \"))\n",
        "radius_2 = int(input(\"Enter radius of 2nd circle : \"))\n",
        "area_1 = (3.14 * (radius_1)**2)\n",
        "area_2 = (3.14 * (radius_2)**2)\n",
        "print(f\"area of 1st circle = {area_1}, area of 2nd circle = {area_2}\")\n",
        "if area_1 > area_2:\n",
        "  print(\"circle 1 has large area\")\n",
        "elif area_2 > area_1:\n",
        "  print(\"circle 2 has large area\")\n",
        "else:\n",
        "  print(\"area is equal\")\n",
        "  "
      ],
      "metadata": {
        "colab": {
          "base_uri": "https://localhost:8080/"
        },
        "id": "tLpDWuQz3T_K",
        "outputId": "f5f9504f-9026-4c5f-da29-cd38ebb7950e"
      },
      "execution_count": 6,
      "outputs": [
        {
          "output_type": "stream",
          "name": "stdout",
          "text": [
            "Enter radius of 1st circle : 12\n",
            "Enter radius of 2nd circle : 12\n",
            "area of 1st circle = 452.16, area of 2nd circle = 452.16\n",
            "area is equal\n"
          ]
        }
      ]
    },
    {
      "cell_type": "code",
      "source": [],
      "metadata": {
        "id": "vt5u98GZ5SAg"
      },
      "execution_count": 13,
      "outputs": []
    },
    {
      "cell_type": "markdown",
      "source": [
        "# 10. Check whether a year is leap year or not. Use nested if...else to solve this problem. A leap year is exactly divisible by 4 except for century years (years ending with 00). The century year is a leap year only if it is perfectly divisible by 400."
      ],
      "metadata": {
        "id": "l8rsRXy-6KQx"
      }
    },
    {
      "cell_type": "markdown",
      "source": [
        "- if year is divisible by 400 then is_leap_year\n",
        "\n",
        "\n",
        "- else if year is divisible by 100 then not_leap_year\n",
        "\n",
        "\n",
        "- else if year is divisible by 4 then is_leap_year\n",
        "\n",
        "\n",
        "- else not_leap_year"
      ],
      "metadata": {
        "id": "2vEbjvG66rVy"
      }
    },
    {
      "cell_type": "code",
      "source": [
        "year = int(input(\"Enter year to check leap year : \"))\n",
        "if year%400 == 0:\n",
        "  print(\"Year is Leap\")\n",
        "elif year%100 == 0:\n",
        "  print(\"Year is Not Leap\")\n",
        "elif year%4 == 0:\n",
        "  print(\"Year is Leap\")\n",
        "else:\n",
        "  print(\"Year is Not Leap\")"
      ],
      "metadata": {
        "colab": {
          "base_uri": "https://localhost:8080/"
        },
        "id": "swfdg7gJ6NjU",
        "outputId": "04f56c25-a2a8-40be-a594-489c82a4f7ff"
      },
      "execution_count": 14,
      "outputs": [
        {
          "output_type": "stream",
          "name": "stdout",
          "text": [
            "Enter year to check leap year : 1900\n",
            "Year is Not Leap\n"
          ]
        }
      ]
    },
    {
      "cell_type": "code",
      "source": [],
      "metadata": {
        "id": "f_UDTwM46xBx"
      },
      "execution_count": null,
      "outputs": []
    }
  ]
}