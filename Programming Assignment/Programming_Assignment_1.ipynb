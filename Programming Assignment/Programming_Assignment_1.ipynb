{
  "nbformat": 4,
  "nbformat_minor": 0,
  "metadata": {
    "colab": {
      "provenance": [],
      "collapsed_sections": []
    },
    "kernelspec": {
      "name": "python3",
      "display_name": "Python 3"
    },
    "language_info": {
      "name": "python"
    }
  },
  "cells": [
    {
      "cell_type": "markdown",
      "source": [
        "# 1. Write a Python program to print \"Hello Python\"?"
      ],
      "metadata": {
        "id": "xzdS-Yc_OWmR"
      }
    },
    {
      "cell_type": "code",
      "execution_count": null,
      "metadata": {
        "id": "QDBgKOCZXqCt",
        "colab": {
          "base_uri": "https://localhost:8080/"
        },
        "outputId": "c1017ae1-9270-4b08-b71d-20e91142e277"
      },
      "outputs": [
        {
          "output_type": "stream",
          "name": "stdout",
          "text": [
            "Hello Python\n"
          ]
        }
      ],
      "source": [
        "print(\"Hello Python\")"
      ]
    },
    {
      "cell_type": "markdown",
      "source": [
        "# 2. Write a Python program to do arithmetical operations addition and division.?"
      ],
      "metadata": {
        "id": "oUjNcrq3OykU"
      }
    },
    {
      "cell_type": "code",
      "source": [
        "A = float(input(\"Enter 1st Number : \"))\n",
        "B = float(input(\"Enter 2t Number : \"))\n",
        "print(f\"Addition of 2 number {A+B} & Division of 2 numbers is {A/B}\")"
      ],
      "metadata": {
        "colab": {
          "base_uri": "https://localhost:8080/"
        },
        "id": "eRV78DhQOqoy",
        "outputId": "f1d3ab0a-5159-4ac0-88d1-8220a765deec"
      },
      "execution_count": null,
      "outputs": [
        {
          "output_type": "stream",
          "name": "stdout",
          "text": [
            "Enter 1st Number : 10\n",
            "Enter 2t Number : 5\n",
            "Addition of 2 number 15.0 & Division of 2 numbers is 2.0\n"
          ]
        }
      ]
    },
    {
      "cell_type": "markdown",
      "source": [
        "# 3. Write a Python program to find the area of a triangle?"
      ],
      "metadata": {
        "id": "3rYIqsUEP9Yi"
      }
    },
    {
      "cell_type": "code",
      "source": [
        "base = float(input(\"Enter base of trangle : \"))\n",
        "hight = float(input(\"Enter hight of trangle : \"))\n",
        "Area = ((base*hight)/2)\n",
        "print(f\"Area of trangle  is {Area}\")"
      ],
      "metadata": {
        "colab": {
          "base_uri": "https://localhost:8080/"
        },
        "id": "nuftj-ooP0lv",
        "outputId": "d5022706-f9d2-4c79-bb4a-a6fe78b8b477"
      },
      "execution_count": null,
      "outputs": [
        {
          "output_type": "stream",
          "name": "stdout",
          "text": [
            "Enter base of trangle : 10\n",
            "Enter hight of trangle : 5\n",
            "Area of trangle  is 25.0\n"
          ]
        }
      ]
    },
    {
      "cell_type": "markdown",
      "source": [
        "# 4. Write a Python program to swap two variables?"
      ],
      "metadata": {
        "id": "WvML4McvQ9cX"
      }
    },
    {
      "cell_type": "code",
      "source": [
        "first = input(\"enter first variable : \")\n",
        "second = input(\"enter second variable : \")\n",
        "third = first\n",
        "first = second\n",
        "second = third\n",
        "print(f\"swap variables are first = {first} & second = {second}\")"
      ],
      "metadata": {
        "colab": {
          "base_uri": "https://localhost:8080/"
        },
        "id": "cw4qlbYIRAzq",
        "outputId": "d3c7737b-0e7d-457d-cb45-c2f88ea36294"
      },
      "execution_count": null,
      "outputs": [
        {
          "output_type": "stream",
          "name": "stdout",
          "text": [
            "enter first variable : 1\n",
            "enter second variable : 2\n",
            "swap variables are first = 2 & second = 1\n"
          ]
        }
      ]
    },
    {
      "cell_type": "markdown",
      "source": [
        "# 5. Write a Python program to generate a random number?\n"
      ],
      "metadata": {
        "id": "_x9ntSPiHPxf"
      }
    },
    {
      "cell_type": "code",
      "source": [
        "# Program to generate a random number between 0 and 99\n",
        "\n",
        "# importing the random module\n",
        "import random\n",
        "\n",
        "print(random.randint(0,99))"
      ],
      "metadata": {
        "colab": {
          "base_uri": "https://localhost:8080/"
        },
        "id": "MkQ9lzXjHQNA",
        "outputId": "fad33b2c-7c54-4675-a0df-aaba2d0693eb"
      },
      "execution_count": 1,
      "outputs": [
        {
          "output_type": "stream",
          "name": "stdout",
          "text": [
            "34\n"
          ]
        }
      ]
    }
  ]
}