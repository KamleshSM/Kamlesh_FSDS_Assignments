{
  "nbformat": 4,
  "nbformat_minor": 0,
  "metadata": {
    "colab": {
      "provenance": [],
      "collapsed_sections": []
    },
    "kernelspec": {
      "name": "python3",
      "display_name": "Python 3"
    },
    "language_info": {
      "name": "python"
    }
  },
  "cells": [
    {
      "cell_type": "markdown",
      "source": [
        "# 1. Write a Python Program to Find the Factorial of a Number?\n",
        "\n"
      ],
      "metadata": {
        "id": "XdRGShPXM36r"
      }
    },
    {
      "cell_type": "code",
      "execution_count": null,
      "metadata": {
        "colab": {
          "base_uri": "https://localhost:8080/"
        },
        "id": "lB4187AEMvVx",
        "outputId": "473b7220-4dda-416c-c7f9-3912fc990612"
      },
      "outputs": [
        {
          "output_type": "stream",
          "name": "stdout",
          "text": [
            "Number = 3\n",
            "Factorial of 3 = 6\n"
          ]
        }
      ],
      "source": [
        "number = int(input(\"Number = \"))\n",
        "factorial = 1\n",
        "for i in range(number,1,-1):\n",
        "  factorial = factorial * i\n",
        "print(f\"Factorial of {number} = {factorial}\")"
      ]
    },
    {
      "cell_type": "markdown",
      "source": [
        "# 2. Write a Python Program to Display the multiplication Table?\n"
      ],
      "metadata": {
        "id": "3Q3aTCv7Trch"
      }
    },
    {
      "cell_type": "code",
      "source": [
        "number = int(input(\"Table of \"))\n",
        "table =[]\n",
        "for i in range(1,11):\n",
        "  table.append(i*number)\n",
        "print(f\"The table of {number} is {table}\")"
      ],
      "metadata": {
        "colab": {
          "base_uri": "https://localhost:8080/"
        },
        "id": "PhhAK_qGSJrr",
        "outputId": "badd7192-46ad-446c-cf42-063371fb1d54"
      },
      "execution_count": null,
      "outputs": [
        {
          "output_type": "stream",
          "name": "stdout",
          "text": [
            "Table of 2\n",
            "The table of 2 is [2, 4, 6, 8, 10, 12, 14, 16, 18, 20]\n"
          ]
        }
      ]
    },
    {
      "cell_type": "markdown",
      "source": [
        "# 3. Write a Python Program to Print the Fibonacci sequence?\n"
      ],
      "metadata": {
        "id": "-rUwfAmCUzEi"
      }
    },
    {
      "cell_type": "code",
      "source": [
        "number1 = int(input(\"write first number for Fibonacci sequence \"))\n",
        "number2 = int(input(\"write second number for Fibonacci sequence \"))\n",
        "length = int(input(\"length of Fibonacci sequence \"))\n",
        "series = [number1,number2,]\n",
        "for i in range(1,length-1):\n",
        "  a = series[len(series)-2] + series[len(series)-1]\n",
        "  series.append(a)\n",
        "print(f\"The Fibonacci Sequence is {series}\")\n"
      ],
      "metadata": {
        "colab": {
          "base_uri": "https://localhost:8080/"
        },
        "id": "PCtb78VXUhLn",
        "outputId": "26986714-99bb-4921-936d-a8e847fe4181"
      },
      "execution_count": null,
      "outputs": [
        {
          "output_type": "stream",
          "name": "stdout",
          "text": [
            "write first number for Fibonacci sequence 1\n",
            "write second number for Fibonacci sequence 1\n",
            "length of Fibonacci sequence5\n",
            "The Fibonacci Sequence is [1, 1, 2, 3, 5]\n"
          ]
        }
      ]
    },
    {
      "cell_type": "markdown",
      "source": [
        "# 4. Write a Python Program to Check Armstrong Number?"
      ],
      "metadata": {
        "id": "ZtS54LtnX19B"
      }
    },
    {
      "cell_type": "markdown",
      "source": [
        "#### Armstrong number is a number that is equal to the sum of cubes of its digits. For example 0, 1, 153, 370, 371 and 407 are the Armstrong numbers.\n"
      ],
      "metadata": {
        "id": "HyFH9TqXYMxo"
      }
    },
    {
      "cell_type": "code",
      "source": [
        "number = (input(\"Enter number to check Armstrong Number or not \"))\n",
        "cube = 0\n",
        "for i in range(0,len((number))):\n",
        "  cube += ((int(number[i]))**3)\n",
        "if cube == int(number):\n",
        "  print(\"Number is Armstrong\")\n",
        "else:\n",
        "  print(\"Number is not Armstrong\")"
      ],
      "metadata": {
        "colab": {
          "base_uri": "https://localhost:8080/"
        },
        "id": "wGPOivKAXoxi",
        "outputId": "1ad907c1-a6b9-4fd7-9c82-13eab1e950f6"
      },
      "execution_count": null,
      "outputs": [
        {
          "output_type": "stream",
          "name": "stdout",
          "text": [
            "Enter number to check Armstrong Number or not 12\n",
            "Number is not Armstrong\n"
          ]
        }
      ]
    },
    {
      "cell_type": "markdown",
      "source": [
        "# 5. Write a Python Program to Find Armstrong Number in an Interval?\n",
        "\n",
        "- Armstrong Number between an interval can be defined as the number is equal to the sum of Nth power of each digit in that number. Where N is number of digits in that number."
      ],
      "metadata": {
        "id": "LNAvXzcx50nS"
      }
    },
    {
      "cell_type": "code",
      "source": [
        "number = (input(\"Enter number to check Armstrong Number or not \"))\n",
        "armstrong = 0\n",
        "for i in range(0,len(number)):\n",
        "  armstrong += ((int(number[i]))**len(number))\n",
        "if armstrong == int(number):\n",
        "  print(\"Number is Armstrong\")\n",
        "else:\n",
        "  print(\"Number is not Armstrong\")"
      ],
      "metadata": {
        "id": "dueMlcmuabRc",
        "colab": {
          "base_uri": "https://localhost:8080/"
        },
        "outputId": "7a1e6e43-2be5-4c44-b63b-bf2e3756fe1a"
      },
      "execution_count": null,
      "outputs": [
        {
          "output_type": "stream",
          "name": "stdout",
          "text": [
            "Enter number to check Armstrong Number or not 8208\n",
            "Number is Armstrong\n"
          ]
        }
      ]
    },
    {
      "cell_type": "markdown",
      "source": [
        "# 6. Write a Python Program to Find the Sum of Natural Numbers?"
      ],
      "metadata": {
        "id": "a4BkQ8WG_FTK"
      }
    },
    {
      "cell_type": "code",
      "source": [
        "number = int(input(\"write number upto witch you want to find sum of Natural Number: \"))\n",
        "sum = 0\n",
        "for i in range(1, number+1):\n",
        "  sum += i\n",
        "print(f\"sum of first {number} is {sum}\")"
      ],
      "metadata": {
        "id": "yRnMnLw8-c9H",
        "colab": {
          "base_uri": "https://localhost:8080/"
        },
        "outputId": "1adb8476-3438-4fbb-d5f1-22407ee7c829"
      },
      "execution_count": 3,
      "outputs": [
        {
          "output_type": "stream",
          "name": "stdout",
          "text": [
            "write number upto witch you want to find sum of Natural Number: 3\n",
            "sum of first 3 is 6\n"
          ]
        }
      ]
    },
    {
      "cell_type": "code",
      "source": [],
      "metadata": {
        "id": "qs6pUnm2AFAm"
      },
      "execution_count": null,
      "outputs": []
    }
  ]
}