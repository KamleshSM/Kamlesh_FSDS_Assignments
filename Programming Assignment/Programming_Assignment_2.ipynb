{
  "nbformat": 4,
  "nbformat_minor": 0,
  "metadata": {
    "colab": {
      "provenance": [],
      "collapsed_sections": []
    },
    "kernelspec": {
      "name": "python3",
      "display_name": "Python 3"
    },
    "language_info": {
      "name": "python"
    }
  },
  "cells": [
    {
      "cell_type": "markdown",
      "source": [
        "# 1. Write a Python program to convert kilometers to miles?"
      ],
      "metadata": {
        "id": "z3esClcIKTXZ"
      }
    },
    {
      "cell_type": "code",
      "source": [
        "km = float(input(\"Kilometers = \"))\n",
        "miles = 0.621371*km\n",
        "print(f\"{km} Kilometers = {miles} Miles\")"
      ],
      "metadata": {
        "colab": {
          "base_uri": "https://localhost:8080/"
        },
        "id": "Hfs-YAh-KSp-",
        "outputId": "410d45d8-6767-4edc-f414-5edd0e669510"
      },
      "execution_count": 1,
      "outputs": [
        {
          "output_type": "stream",
          "name": "stdout",
          "text": [
            "Kilometers = 2\n",
            "2.0 Kilometers = 1.242742 Miles\n"
          ]
        }
      ]
    },
    {
      "cell_type": "markdown",
      "source": [
        "# 2. Write a Python program to convert Celsius to Fahrenheit?\n"
      ],
      "metadata": {
        "id": "Fl194YI-LOL4"
      }
    },
    {
      "cell_type": "code",
      "execution_count": 4,
      "metadata": {
        "colab": {
          "base_uri": "https://localhost:8080/"
        },
        "id": "WkTsenXrKMdY",
        "outputId": "d0fd978d-4e78-4fb7-c527-eaa04d998a8b"
      },
      "outputs": [
        {
          "output_type": "stream",
          "name": "stdout",
          "text": [
            "Celsius = 7\n",
            "7.0 Celsius = 44.6 Fahrenheit\n"
          ]
        }
      ],
      "source": [
        "Celsius = float(input(\"Celsius = \"))\n",
        "Fahrenheit = (Celsius * 9/5) + 32\n",
        "print(f\"{Celsius} Celsius = {Fahrenheit} Fahrenheit\")"
      ]
    },
    {
      "cell_type": "markdown",
      "source": [
        "# 3. Write a Python program to display calendar?"
      ],
      "metadata": {
        "id": "S46yVtibMHGJ"
      }
    },
    {
      "cell_type": "code",
      "source": [
        "import calendar\n",
        "yy = int(input(\"Enter year: \"))\n",
        "mm = int(input(\"Enter month: \"))\n",
        "\n",
        "# display the calendar\n",
        "print(calendar.month(yy, mm))"
      ],
      "metadata": {
        "colab": {
          "base_uri": "https://localhost:8080/"
        },
        "id": "HHKTvPCbMFST",
        "outputId": "23733c03-25c6-4c6a-b37e-83e5868b7960"
      },
      "execution_count": 6,
      "outputs": [
        {
          "output_type": "stream",
          "name": "stdout",
          "text": [
            "Enter year: 2022\n",
            "Enter month: 9\n",
            "   September 2022\n",
            "Mo Tu We Th Fr Sa Su\n",
            "          1  2  3  4\n",
            " 5  6  7  8  9 10 11\n",
            "12 13 14 15 16 17 18\n",
            "19 20 21 22 23 24 25\n",
            "26 27 28 29 30\n",
            "\n"
          ]
        }
      ]
    },
    {
      "cell_type": "markdown",
      "source": [
        "# 4. Write a Python program to solve quadratic equation?\n",
        "![what-is-the-quadratic-formula-768x446.jpg](data:image/jpeg;base64,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)"
      ],
      "metadata": {
        "id": "thALTWFAMpw2"
      }
    },
    {
      "cell_type": "code",
      "source": [
        "'''ax2 + bx + c = 0, where\n",
        "a, b and c are real numbers and\n",
        "a ≠ 0\n",
        "fact = (-b ± (b ** 2 - 4 * a * c) ** 0.5) / (2 * a)\n",
        "'''\n",
        "a = float(input(\"a = \"))\n",
        "b = float(input(\"b = \"))\n",
        "c = float(input(\"c = \"))\n",
        "sol1 = (-b + ((b ** 2) - (4 * a * c)) ** 0.5) / (2 * a)\n",
        "sol2 = (-b - ((b ** 2) - (4 * a * c)) ** 0.5) / (2 * a)\n",
        "print(f'The solutions are {sol1} and {sol2}')"
      ],
      "metadata": {
        "colab": {
          "base_uri": "https://localhost:8080/"
        },
        "id": "rCdgGoCSL1hD",
        "outputId": "973eefa3-d61f-4d2f-ad03-384d6ffd7b7f"
      },
      "execution_count": 10,
      "outputs": [
        {
          "output_type": "stream",
          "name": "stdout",
          "text": [
            "a = 1\n",
            "b = 5\n",
            "c = 6\n",
            "The solutions are -2.0 and -3.0\n"
          ]
        }
      ]
    },
    {
      "cell_type": "markdown",
      "source": [
        "# 5. Write a Python program to swap two variables without temp variable?"
      ],
      "metadata": {
        "id": "7sNvf-ptPW-3"
      }
    },
    {
      "cell_type": "code",
      "source": [
        "# for numaric variables\n",
        "x = int(input(\"x = \"))\n",
        "y = int(input(\"y = \"))\n",
        "x = x+y\n",
        "y= x - y\n",
        "x = x - y\n",
        "print(f\"After Swapping: x = {x}  y = {y}\")"
      ],
      "metadata": {
        "colab": {
          "base_uri": "https://localhost:8080/"
        },
        "id": "N8kv-HJ5PDUB",
        "outputId": "dba72c1e-1fd5-4070-9024-8c3cd34b76e6"
      },
      "execution_count": 12,
      "outputs": [
        {
          "output_type": "stream",
          "name": "stdout",
          "text": [
            "x = 5\n",
            "y = 6\n",
            "After Swapping: x = 6  y = 5\n"
          ]
        }
      ]
    },
    {
      "cell_type": "code",
      "source": [
        "# for string variables\n",
        "x = (input(\"x = \"))\n",
        "y = (input(\"y = \"))\n",
        "x = x+y\n",
        "y= x[0 : len(x)-len(y)]\n",
        "x = x[len(y):]\n",
        "print(f\"After Swapping: x = {x}  y = {y}\")"
      ],
      "metadata": {
        "colab": {
          "base_uri": "https://localhost:8080/"
        },
        "outputId": "7378826f-9748-4c86-ba48-bd0ebea777b2",
        "id": "Y3tYBw6dQvEF"
      },
      "execution_count": 13,
      "outputs": [
        {
          "output_type": "stream",
          "name": "stdout",
          "text": [
            "x = hi\n",
            "y = kamlesh\n",
            "After Swapping: x = kamlesh  y = hi\n"
          ]
        }
      ]
    }
  ]
}